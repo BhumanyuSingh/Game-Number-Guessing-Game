{
 "cells": [
  {
   "cell_type": "markdown",
   "id": "83810db6",
   "metadata": {},
   "source": [
    "# Number Guessing Game."
   ]
  },
  {
   "cell_type": "code",
   "execution_count": 1,
   "id": "1ad01713",
   "metadata": {},
   "outputs": [
    {
     "name": "stdout",
     "output_type": "stream",
     "text": [
      "Welcome to the Number Guessing Game!\n",
      "I'm thinking of a number between 1 and 100.\n",
      "Guess 1/5: 50\n",
      "Too high! Try again.\n",
      "Guess 2/5: 25\n",
      "Too low! Try again.\n",
      "Guess 3/5: 35\n",
      "Too low! Try again.\n",
      "Guess 4/5: 45\n",
      "Too low! Try again.\n",
      "Guess 5/5: 47\n",
      "Congratulations! You guessed the number 47 correctly!\n"
     ]
    }
   ],
   "source": [
    "import random\n",
    "\n",
    "def number_guessing_game():\n",
    "    random_number = random.randint(1, 100)\n",
    "    chances = 5\n",
    "\n",
    "    print(\"Welcome to the Number Guessing Game!\")\n",
    "    print(\"I'm thinking of a number between 1 and 100.\")\n",
    "    \n",
    "    for attempt in range(chances):\n",
    "        guess = int(input(f\"Guess {attempt + 1}/{chances}: \"))\n",
    "        \n",
    "        if guess < random_number:\n",
    "            print(\"Too low! Try again.\")\n",
    "        elif guess > random_number:\n",
    "            print(\"Too high! Try again.\")\n",
    "        else:\n",
    "            print(f\"Congratulations! You guessed the number {random_number} correctly!\")\n",
    "            break\n",
    "\n",
    "    if guess != random_number:\n",
    "        print(f\"Sorry, you're out of guesses. The number was {random_number}.\")\n",
    "\n",
    "\n",
    "number_guessing_game()\n"
   ]
  }
 ],
 "metadata": {
  "kernelspec": {
   "display_name": "Python 3 (ipykernel)",
   "language": "python",
   "name": "python3"
  },
  "language_info": {
   "codemirror_mode": {
    "name": "ipython",
    "version": 3
   },
   "file_extension": ".py",
   "mimetype": "text/x-python",
   "name": "python",
   "nbconvert_exporter": "python",
   "pygments_lexer": "ipython3",
   "version": "3.9.12"
  }
 },
 "nbformat": 4,
 "nbformat_minor": 5
}
